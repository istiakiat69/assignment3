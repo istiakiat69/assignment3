{
 "cells": [
  {
   "cell_type": "markdown",
   "id": "3c9c2bd1",
   "metadata": {},
   "source": [
    "# Assignment 3 - 115 Problem Solving"
   ]
  },
  {
   "cell_type": "raw",
   "id": "7ba96aaf",
   "metadata": {},
   "source": [
    "# 1. Variable Swap: Write a Python program to swap the values of two variables without using a temporary variable."
   ]
  },
  {
   "cell_type": "code",
   "execution_count": 3,
   "id": "4eb8d1b6",
   "metadata": {},
   "outputs": [
    {
     "name": "stdout",
     "output_type": "stream",
     "text": [
      "a =  3\n",
      "b =  10\n"
     ]
    }
   ],
   "source": [
    "a = 10\n",
    "b = 3\n",
    "a,b = b, a\n",
    "print(\"a = \", a)\n",
    "print(\"b = \",b)"
   ]
  },
  {
   "cell_type": "raw",
   "id": "239614fd",
   "metadata": {},
   "source": [
    "#2. Even or Odd: Write a Python program that takes an integer as input and prints whether it is even or odd."
   ]
  },
  {
   "cell_type": "code",
   "execution_count": 1,
   "id": "d36f1ead",
   "metadata": {},
   "outputs": [
    {
     "name": "stdout",
     "output_type": "stream",
     "text": [
      "Enter a integer value : 4\n",
      "Even\n"
     ]
    }
   ],
   "source": [
    "a = int(input('Enter a integer value : '))\n",
    "\n",
    "if a%2==0:\n",
    "    print('Even')\n",
    "else:\n",
    "    print('Odd')\n",
    "    "
   ]
  },
  {
   "cell_type": "raw",
   "id": "247504b1",
   "metadata": {},
   "source": [
    "3. String Reverse: Write a Python function to reverse a given string and return the reversed string."
   ]
  },
  {
   "cell_type": "code",
   "execution_count": 13,
   "id": "e2da9491",
   "metadata": {},
   "outputs": [
    {
     "name": "stdout",
     "output_type": "stream",
     "text": [
      "Enter a String : Hrkjsdfkj dkfji\n",
      "ijfkd jkfdsjkrH\n"
     ]
    }
   ],
   "source": [
    "def reversed_String(input_string):\n",
    "    return input_string[::-1]\n",
    "\n",
    "input_sting = input(\"Enter a String : \")\n",
    "reversed_Str = reversed_String(input_sting)\n",
    "print(reversed_Str)\n"
   ]
  },
  {
   "cell_type": "raw",
   "id": "08f45e1e",
   "metadata": {},
   "source": [
    "4. Type Conversion: Given a list of integers, write a Python program to convert each element of the list to a string."
   ]
  },
  {
   "cell_type": "code",
   "execution_count": 14,
   "id": "63129231",
   "metadata": {},
   "outputs": [
    {
     "name": "stdout",
     "output_type": "stream",
     "text": [
      "['1', '2', '3', '4', '5', '6']\n"
     ]
    }
   ],
   "source": [
    "def convert_to_string(given_int):\n",
    "    return [str(num) for num in given_int]\n",
    "\n",
    "given_int = [1,2,3,4,5,6]\n",
    "sting_list = convert_to_string(given_int)\n",
    "print(sting_list)"
   ]
  },
  {
   "cell_type": "raw",
   "id": "2f648302",
   "metadata": {},
   "source": [
    " 5. Temperature Converter: Write a Python program that converts a temperature in Celsius to Fahrenheit. Take the Celsius temperature as input from the user."
   ]
  },
  {
   "cell_type": "code",
   "execution_count": 15,
   "id": "b5cf9127",
   "metadata": {},
   "outputs": [
    {
     "name": "stdout",
     "output_type": "stream",
     "text": [
      "Enter temperature in Celsius: 25\n",
      "25.0 degrees Celsius is equal to 77.0 degrees Fahrenheit.\n"
     ]
    }
   ],
   "source": [
    "def celsius_to_fahrenheit(celsius):\n",
    "    fahrenheit = (celsius * 9/5) + 32\n",
    "    return fahrenheit\n",
    "\n",
    "\n",
    "celsius = float(input(\"Enter temperature in Celsius: \"))\n",
    "fahrenheit = celsius_to_fahrenheit(celsius)\n",
    "print(f\"{celsius} degrees Celsius is equal to {fahrenheit} degrees Fahrenheit.\")"
   ]
  },
  {
   "cell_type": "raw",
   "id": "d17db64e",
   "metadata": {},
   "source": [
    "6. Data Type Checker: Write a Python function that takes a variable as input and returns the data type of the variable as a string (e.g., “int”, “float”, “str”, “list”, etc.)."
   ]
  },
  {
   "cell_type": "code",
   "execution_count": 16,
   "id": "ff39ecd8",
   "metadata": {},
   "outputs": [
    {
     "name": "stdout",
     "output_type": "stream",
     "text": [
      "int\n",
      "float\n",
      "str\n",
      "list\n"
     ]
    }
   ],
   "source": [
    "def get_data_type(variable):\n",
    "    data_type = str(type(variable)).split(\"'\")[1]\n",
    "    return data_type\n",
    "\n",
    "var1 = 10\n",
    "var2 = 3.14\n",
    "var3 = \"Hello, World!\"\n",
    "var4 = [1, 2, 3, 4, 5]\n",
    "\n",
    "print(get_data_type(var1))  \n",
    "print(get_data_type(var2))  \n",
    "print(get_data_type(var3))  \n",
    "print(get_data_type(var4))  "
   ]
  },
  {
   "cell_type": "raw",
   "id": "ca21cda5",
   "metadata": {},
   "source": [
    " 7. String Palindrome: Write a Python function to check if a given string is a palindrome or not."
   ]
  },
  {
   "cell_type": "code",
   "execution_count": 18,
   "id": "578340d7",
   "metadata": {},
   "outputs": [
    {
     "name": "stdout",
     "output_type": "stream",
     "text": [
      "True\n",
      "False\n"
     ]
    }
   ],
   "source": [
    "def is_palindrome(input_string):\n",
    "    # Remove spaces and convert to lowercase \n",
    "    input_string = input_string.replace(\" \", \"\").lower()\n",
    "    # Compare its reverse\n",
    "    return input_string == input_string[::-1]\n",
    "\n",
    "\n",
    "input_str = \"A man a plan a canal Panama\"\n",
    "print(is_palindrome(input_str)) \n",
    "input_str = \"hello\"\n",
    "print(is_palindrome(input_str))  "
   ]
  },
  {
   "cell_type": "raw",
   "id": "f4b3c509",
   "metadata": {},
   "source": [
    "8. String Reversal with Slicing: Write a Python function to reverse a given string using slicing."
   ]
  },
  {
   "cell_type": "code",
   "execution_count": 19,
   "id": "ce70b989",
   "metadata": {},
   "outputs": [
    {
     "name": "stdout",
     "output_type": "stream",
     "text": [
      "!dlroW ,olleH\n"
     ]
    }
   ],
   "source": [
    "def reverse_string(input_string):\n",
    "    # reverse the string\n",
    "    return input_string[::-1]\n",
    "\n",
    "# Example usage:\n",
    "input_str = \"Hello, World!\"\n",
    "reversed_str = reverse_string(input_str)\n",
    "print(reversed_str) \n"
   ]
  },
  {
   "cell_type": "raw",
   "id": "8eec4133",
   "metadata": {},
   "source": [
    "9. String Concatenation: Write a Python program that takes two strings as input and concatenates them into a single string without using the `+` operator."
   ]
  },
  {
   "cell_type": "code",
   "execution_count": 20,
   "id": "b47fc1c7",
   "metadata": {},
   "outputs": [
    {
     "name": "stdout",
     "output_type": "stream",
     "text": [
      "Hello, World!\n"
     ]
    }
   ],
   "source": [
    "string1 = \"Hello, \"\n",
    "string2 = \"World!\"\n",
    "\n",
    "concatenated_str = \"{}{}\".format(string1, string2)\n",
    "\n",
    "print(concatenated_str)"
   ]
  },
  {
   "cell_type": "raw",
   "id": "233e02f6",
   "metadata": {},
   "source": [
    "10. Typecasting Challenge: Given three variables: `a = ‘100’`, `b = 25`, and `c = ‘10.5’`, write a Python program to perform the following operations and print the results: – Convert `a` to an integer and add it to `b`. – Convert `c` to a float and subtract it from the result of the first operation. – Convert the final result to a string and concatenate it with the string ” is the answer.”"
   ]
  },
  {
   "cell_type": "code",
   "execution_count": 22,
   "id": "438dc5e9",
   "metadata": {},
   "outputs": [
    {
     "name": "stdout",
     "output_type": "stream",
     "text": [
      "114.5 is the answer.\n"
     ]
    }
   ],
   "source": [
    "a = '100'\n",
    "b = 25\n",
    "c = '10.5'\n",
    "\n",
    "\n",
    "result1 = int(a) + b\n",
    "result2 = result1 - float(c)\n",
    "final_result = str(result2) + \" is the answer.\"\n",
    "\n",
    "print(final_result)\n"
   ]
  },
  {
   "cell_type": "markdown",
   "id": "bb570d18",
   "metadata": {},
   "source": [
    "# Python Conditional Statements:"
   ]
  },
  {
   "cell_type": "raw",
   "id": "950d39c5",
   "metadata": {},
   "source": [
    "11. Positive, Negative, or Zero: Write a Python program that takes a number as input and prints whether it is positive, negative, or zero."
   ]
  },
  {
   "cell_type": "code",
   "execution_count": 23,
   "id": "c5fc1490",
   "metadata": {},
   "outputs": [
    {
     "name": "stdout",
     "output_type": "stream",
     "text": [
      "Enter a number: 3\n",
      "Positive\n"
     ]
    }
   ],
   "source": [
    "def check_number(num):\n",
    "    if num > 0:\n",
    "        print(\"Positive\")\n",
    "    elif num < 0:\n",
    "        print(\"Negative\")\n",
    "    else:\n",
    "        print(\"Zero\")\n",
    "\n",
    "\n",
    "number = float(input(\"Enter a number: \"))\n",
    "check_number(number)\n"
   ]
  },
  {
   "cell_type": "raw",
   "id": "5933cd25",
   "metadata": {},
   "source": [
    "12. Largest of Three Numbers: Write a Python program that takes three numbers as input and prints the largest among them."
   ]
  },
  {
   "cell_type": "code",
   "execution_count": 24,
   "id": "2535f695",
   "metadata": {},
   "outputs": [
    {
     "name": "stdout",
     "output_type": "stream",
     "text": [
      "Enter first number: 34\n",
      "Enter second number: 54\n",
      "Enter third number: 34\n",
      "The largest number is: 54.0\n"
     ]
    }
   ],
   "source": [
    "def find_largest(num1, num2, num3):\n",
    "    if num1 >= num2 and num1 >= num3:\n",
    "        return num1\n",
    "    elif num2 >= num1 and num2 >= num3:\n",
    "        return num2\n",
    "    else:\n",
    "        return num3\n",
    "\n",
    "# Input three numbers from the user\n",
    "num1 = float(input(\"Enter first number: \"))\n",
    "num2 = float(input(\"Enter second number: \"))\n",
    "num3 = float(input(\"Enter third number: \"))\n",
    "\n",
    "# Find the largest among the three numbers\n",
    "largest = find_largest(num1, num2, num3)\n",
    "\n",
    "# Print the result\n",
    "print(\"The largest number is:\", largest)\n"
   ]
  },
  {
   "cell_type": "raw",
   "id": "ed3a7302",
   "metadata": {},
   "source": [
    "13. Leap Year Checker: Write a Python program that takes a year as input and determines if it is a leap year or not."
   ]
  },
  {
   "cell_type": "code",
   "execution_count": 26,
   "id": "7df5e46f",
   "metadata": {},
   "outputs": [
    {
     "name": "stdout",
     "output_type": "stream",
     "text": [
      "Enter a year: 1223\n",
      "1223 is not a leap year.\n"
     ]
    }
   ],
   "source": [
    "def is_leap_year(year):\n",
    "    return year % 4 == 0 and (year % 100 != 0 or year % 400 == 0)\n",
    "\n",
    "# Input year from the user\n",
    "year = int(input(\"Enter a year: \"))\n",
    "\n",
    "# Check if the year is a leap year\n",
    "if is_leap_year(year):\n",
    "    print(f\"{year} is a leap year.\")\n",
    "else:\n",
    "    print(f\"{year} is not a leap year.\")\n"
   ]
  },
  {
   "cell_type": "raw",
   "id": "43a61b60",
   "metadata": {},
   "source": [
    "14. Grades Classification: Write a Python program that takes a student’s percentage as input and prints their corresponding grade according to the following criteria: – 90% or above: A+ – 80-89%: A – 70-79%: B – 60-69%: C – Below 60%: Fail"
   ]
  },
  {
   "cell_type": "code",
   "execution_count": 27,
   "id": "3ba469ee",
   "metadata": {},
   "outputs": [
    {
     "name": "stdout",
     "output_type": "stream",
     "text": [
      "Enter student's percentage: 56\n",
      "Grade: Fail\n"
     ]
    }
   ],
   "source": [
    "def classify_grade(percentage):\n",
    "    if percentage >= 90:\n",
    "        return \"A+\"\n",
    "    elif percentage >= 80:\n",
    "        return \"A\"\n",
    "    elif percentage >= 70:\n",
    "        return \"B\"\n",
    "    elif percentage >= 60:\n",
    "        return \"C\"\n",
    "    else:\n",
    "        return \"Fail\"\n",
    "\n",
    "# Input student's percentage from the user\n",
    "percentage = float(input(\"Enter student's percentage: \"))\n",
    "\n",
    "# Classify the grade based on the percentage\n",
    "grade = classify_grade(percentage)\n",
    "\n",
    "# Print the result\n",
    "print(\"Grade:\", grade)\n"
   ]
  },
  {
   "cell_type": "raw",
   "id": "65727954",
   "metadata": {},
   "source": [
    "15. Vowel or Consonant: Write a Python program that takes a single character as input and determines whether it is a vowel or a consonant."
   ]
  },
  {
   "cell_type": "code",
   "execution_count": 33,
   "id": "fca2ab62",
   "metadata": {},
   "outputs": [
    {
     "name": "stdout",
     "output_type": "stream",
     "text": [
      "Enter a single character: h\n",
      "Consonant\n"
     ]
    }
   ],
   "source": [
    "def check_vowel_or_consonant(character):\n",
    "    # Convert the character to lowercase for case-insensitive comparison\n",
    "    character = character.lower()\n",
    "    # Define a set of vowels\n",
    "    vowels = {'a', 'e', 'i', 'o', 'u'}\n",
    "    \n",
    "    if character.isalpha() and len(character) == 1:\n",
    "        if character in vowels:\n",
    "            return \"Vowel\"\n",
    "        else:\n",
    "            return \"Consonant\"\n",
    "    else:\n",
    "        return \"Invalid input (not a single character)\"\n",
    "\n",
    "# Input a single character from the user\n",
    "char = input(\"Enter a single character: \")\n",
    "\n",
    "# Check if the character is a vowel or a consonant\n",
    "result = check_vowel_or_consonant(char)\n",
    "\n",
    "# Print the result\n",
    "print(result)\n"
   ]
  },
  {
   "cell_type": "raw",
   "id": "f724948f",
   "metadata": {},
   "source": [
    "16. Time Classification: Write a Python program that takes the time in hours (24-hour format) as input and prints “Good Morning”, “Good Afternoon”, “Good Evening”, or “Good Night” based on the time."
   ]
  },
  {
   "cell_type": "code",
   "execution_count": 34,
   "id": "0660483d",
   "metadata": {},
   "outputs": [
    {
     "name": "stdout",
     "output_type": "stream",
     "text": [
      "Enter the time (hour): 12\n",
      "Good Afternoon\n"
     ]
    }
   ],
   "source": [
    "def classify_time(hour):\n",
    "    if 0 <= hour < 6:\n",
    "        return \"Good Night\"\n",
    "    elif 6 <= hour < 12:\n",
    "        return \"Good Morning\"\n",
    "    elif 12 <= hour < 18:\n",
    "        return \"Good Afternoon\"\n",
    "    else:\n",
    "        return \"Good Evening\"\n",
    "\n",
    "# Input the time in 24-hour format from the user\n",
    "hour = int(input(\"Enter the time (hour): \"))\n",
    "\n",
    "# Classify the time and print the result\n",
    "print(classify_time(hour))\n"
   ]
  },
  {
   "cell_type": "raw",
   "id": "2f3cd26c",
   "metadata": {},
   "source": [
    "17. Triangle Type Checker: Write a Python program that takes three sides of a triangle as input and determines whether it forms an equilateral, isosceles, or scalene triangle."
   ]
  },
  {
   "cell_type": "code",
   "execution_count": 35,
   "id": "60a11383",
   "metadata": {},
   "outputs": [
    {
     "name": "stdout",
     "output_type": "stream",
     "text": [
      "Enter the length of side 1: 45\n",
      "Enter the length of side 2: 54\n",
      "Enter the length of side 3: 54\n",
      "The triangle is: Isosceles\n"
     ]
    }
   ],
   "source": [
    "def classify_triangle(side1, side2, side3):\n",
    "    if side1 == side2 == side3:\n",
    "        return \"Equilateral\"\n",
    "    elif side1 == side2 or side1 == side3 or side2 == side3:\n",
    "        return \"Isosceles\"\n",
    "    else:\n",
    "        return \"Scalene\"\n",
    "\n",
    "# Input the sides of the triangle from the user\n",
    "side1 = float(input(\"Enter the length of side 1: \"))\n",
    "side2 = float(input(\"Enter the length of side 2: \"))\n",
    "side3 = float(input(\"Enter the length of side 3: \"))\n",
    "\n",
    "# Classify the triangle based on its sides and print the result\n",
    "triangle_type = classify_triangle(side1, side2, side3)\n",
    "print(\"The triangle is:\", triangle_type)\n"
   ]
  },
  {
   "cell_type": "raw",
   "id": "f9ad6ea4",
   "metadata": {},
   "source": [
    "18. Quadratic Equation Solver: Write a Python program that takes the coefficients (a, b, c) of a quadratic equation as input and calculates and prints the real roots (if they exist) or a message indicating the complex roots."
   ]
  },
  {
   "cell_type": "code",
   "execution_count": 36,
   "id": "faf69174",
   "metadata": {},
   "outputs": [
    {
     "name": "stdout",
     "output_type": "stream",
     "text": [
      "Enter the coefficient of x^2 (a): 54\n",
      "Enter the coefficient of x (b): 6\n",
      "Enter the constant term (c): 5\n",
      "The equation has Complex roots\n"
     ]
    }
   ],
   "source": [
    "import math\n",
    "\n",
    "def solve_quadratic(a, b, c):\n",
    "    # Calculate the discriminant\n",
    "    discriminant = b**2 - 4*a*c\n",
    "    \n",
    "    # Check if the discriminant is non-negative (real roots)\n",
    "    if discriminant >= 0:\n",
    "        # Calculate the real roots\n",
    "        root1 = (-b + math.sqrt(discriminant)) / (2*a)\n",
    "        root2 = (-b - math.sqrt(discriminant)) / (2*a)\n",
    "        return root1, root2\n",
    "    else:\n",
    "        # Complex roots\n",
    "        return \"Complex roots\"\n",
    "\n",
    "# Input coefficients of the quadratic equation from the user\n",
    "a = float(input(\"Enter the coefficient of x^2 (a): \"))\n",
    "b = float(input(\"Enter the coefficient of x (b): \"))\n",
    "c = float(input(\"Enter the constant term (c): \"))\n",
    "\n",
    "# Solve the quadratic equation\n",
    "roots = solve_quadratic(a, b, c)\n",
    "\n",
    "# Print the result\n",
    "if isinstance(roots, tuple):\n",
    "    print(\"The real roots are:\", roots)\n",
    "else:\n",
    "    print(\"The equation has\", roots)\n"
   ]
  },
  {
   "cell_type": "raw",
   "id": "fbacfffe",
   "metadata": {},
   "source": [
    "19. Number Ranges: Write a Python program that takes an integer as input and prints whether the number falls within the ranges: 0-50, 51-100, 101-150, or above 150."
   ]
  },
  {
   "cell_type": "code",
   "execution_count": 37,
   "id": "aefc65b7",
   "metadata": {},
   "outputs": [
    {
     "name": "stdout",
     "output_type": "stream",
     "text": [
      "Enter an integer: 454\n",
      "The number falls within the range: above 150\n"
     ]
    }
   ],
   "source": [
    "def check_number_range(num):\n",
    "    if num >= 0 and num <= 50:\n",
    "        return \"0-50\"\n",
    "    elif num >= 51 and num <= 100:\n",
    "        return \"51-100\"\n",
    "    elif num >= 101 and num <= 150:\n",
    "        return \"101-150\"\n",
    "    else:\n",
    "        return \"above 150\"\n",
    "\n",
    "# Input an integer from the user\n",
    "number = int(input(\"Enter an integer: \"))\n",
    "\n",
    "# Check in which range the number falls and print the result\n",
    "print(f\"The number falls within the range: {check_number_range(number)}\")\n"
   ]
  },
  {
   "cell_type": "markdown",
   "id": "7a7182f6",
   "metadata": {},
   "source": [
    "# For & While Loops:"
   ]
  },
  {
   "cell_type": "raw",
   "id": "f86b019c",
   "metadata": {},
   "source": [
    "20. Sum of N Numbers: Write a Python program using a for loop to calculate the sum of the first N natural numbers, where N is taken as input from the user."
   ]
  },
  {
   "cell_type": "code",
   "execution_count": 39,
   "id": "99fdf50b",
   "metadata": {},
   "outputs": [
    {
     "name": "stdout",
     "output_type": "stream",
     "text": [
      "Enter a positive integer (N): 56\n",
      "The sum of the first 56 natural numbers is: 1596\n"
     ]
    }
   ],
   "source": [
    "def sum_of_natural_numbers(N):\n",
    "    total = 0\n",
    "    for i in range(1, N + 1):\n",
    "        total += i\n",
    "    return total\n",
    "\n",
    "# Input N from the user\n",
    "N = int(input(\"Enter a positive integer (N): \"))\n",
    "\n",
    "# Calculate the sum of the first N natural numbers\n",
    "sum_of_N = sum_of_natural_numbers(N)\n",
    "\n",
    "# Print the result\n",
    "print(f\"The sum of the first {N} natural numbers is: {sum_of_N}\")\n"
   ]
  },
  {
   "cell_type": "raw",
   "id": "b311d0f2",
   "metadata": {},
   "source": [
    "21. Factorial Calculator: Write a Python program using a while loop to calculate the factorial of a given number N."
   ]
  },
  {
   "cell_type": "code",
   "execution_count": 40,
   "id": "dd0eb743",
   "metadata": {},
   "outputs": [
    {
     "name": "stdout",
     "output_type": "stream",
     "text": [
      "Enter a non-negative integer (N): 45\n",
      "The factorial of 45 is: 119622220865480194561963161495657715064383733760000000000\n"
     ]
    }
   ],
   "source": [
    "def calculate_factorial(N):\n",
    "    factorial = 1\n",
    "    i = 1\n",
    "    while i <= N:\n",
    "        factorial *= i\n",
    "        i += 1\n",
    "    return factorial\n",
    "\n",
    "# Input N from the user\n",
    "N = int(input(\"Enter a non-negative integer (N): \"))\n",
    "\n",
    "# Calculate the factorial of N\n",
    "factorial_of_N = calculate_factorial(N)\n",
    "\n",
    "# Print the result\n",
    "print(f\"The factorial of {N} is: {factorial_of_N}\")\n"
   ]
  },
  {
   "cell_type": "raw",
   "id": "628ef1fa",
   "metadata": {},
   "source": [
    "22. Table of a Number: Write a Python program using a for loop to print the multiplication table of a given number N."
   ]
  },
  {
   "cell_type": "code",
   "execution_count": 41,
   "id": "28805aee",
   "metadata": {},
   "outputs": [
    {
     "name": "stdout",
     "output_type": "stream",
     "text": [
      "Enter a number to print its multiplication table: 5\n",
      "Multiplication table of 5:\n",
      "5 x 1 = 5\n",
      "5 x 2 = 10\n",
      "5 x 3 = 15\n",
      "5 x 4 = 20\n",
      "5 x 5 = 25\n",
      "5 x 6 = 30\n",
      "5 x 7 = 35\n",
      "5 x 8 = 40\n",
      "5 x 9 = 45\n",
      "5 x 10 = 50\n"
     ]
    }
   ],
   "source": [
    "def print_multiplication_table(N):\n",
    "    for i in range(1, 11):\n",
    "        print(f\"{N} x {i} = {N * i}\")\n",
    "\n",
    "# Input N from the user\n",
    "N = int(input(\"Enter a number to print its multiplication table: \"))\n",
    "\n",
    "# Print the multiplication table of N\n",
    "print(f\"Multiplication table of {N}:\")\n",
    "print_multiplication_table(N)\n"
   ]
  },
  {
   "cell_type": "raw",
   "id": "61d16d49",
   "metadata": {},
   "source": [
    "23. Count Digits in a Number: Write a Python program using a while loop to count the number of digits in a given integer N."
   ]
  },
  {
   "cell_type": "code",
   "execution_count": 42,
   "id": "e6f7d483",
   "metadata": {},
   "outputs": [
    {
     "name": "stdout",
     "output_type": "stream",
     "text": [
      "Enter an integer: 54\n",
      "The number of digits in 54 is: 2\n"
     ]
    }
   ],
   "source": [
    "def count_digits(N):\n",
    "    count = 0\n",
    "    while N != 0:\n",
    "        N //= 10\n",
    "        count += 1\n",
    "    return count\n",
    "\n",
    "# Input N from the user\n",
    "N = int(input(\"Enter an integer: \"))\n",
    "\n",
    "# Count the number of digits in N\n",
    "num_digits = count_digits(N)\n",
    "\n",
    "# Print the result\n",
    "print(f\"The number of digits in {N} is: {num_digits}\")\n"
   ]
  },
  {
   "cell_type": "code",
   "execution_count": null,
   "id": "d81ef014",
   "metadata": {},
   "outputs": [],
   "source": []
  }
 ],
 "metadata": {
  "kernelspec": {
   "display_name": "Python 3 (ipykernel)",
   "language": "python",
   "name": "python3"
  },
  "language_info": {
   "codemirror_mode": {
    "name": "ipython",
    "version": 3
   },
   "file_extension": ".py",
   "mimetype": "text/x-python",
   "name": "python",
   "nbconvert_exporter": "python",
   "pygments_lexer": "ipython3",
   "version": "3.11.5"
  }
 },
 "nbformat": 4,
 "nbformat_minor": 5
}
